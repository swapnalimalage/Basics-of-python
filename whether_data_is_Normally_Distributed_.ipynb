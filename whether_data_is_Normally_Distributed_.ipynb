{
  "nbformat": 4,
  "nbformat_minor": 0,
  "metadata": {
    "colab": {
      "name": "whether data is Normally Distributed .ipynb",
      "provenance": [],
      "collapsed_sections": [],
      "toc_visible": true,
      "authorship_tag": "ABX9TyNyxSzwI1aPHbkFd3BR5Dwy",
      "include_colab_link": true
    },
    "kernelspec": {
      "name": "python3",
      "display_name": "Python 3"
    },
    "language_info": {
      "name": "python"
    }
  },
  "cells": [
    {
      "cell_type": "markdown",
      "metadata": {
        "id": "view-in-github",
        "colab_type": "text"
      },
      "source": [
        "<a href=\"https://colab.research.google.com/github/swapnalimalage/Basics-of-python/blob/main/whether_data_is_Normally_Distributed_.ipynb\" target=\"_parent\"><img src=\"https://colab.research.google.com/assets/colab-badge.svg\" alt=\"Open In Colab\"/></a>"
      ]
    },
    {
      "cell_type": "markdown",
      "source": [
        "a)**\tCheck whether the MPG of Cars follows Normal Distribution Dataset: Cars.csv**"
      ],
      "metadata": {
        "id": "BAfMg1xYr73F"
      }
    },
    {
      "cell_type": "code",
      "source": [
        "from google.colab import drive\n",
        "drive.mount('/content/drive')"
      ],
      "metadata": {
        "colab": {
          "base_uri": "https://localhost:8080/"
        },
        "id": "AR0EqkbbsaPA",
        "outputId": "a83ab55a-8857-4225-b61c-f498dde7ade1"
      },
      "execution_count": 3,
      "outputs": [
        {
          "output_type": "stream",
          "name": "stdout",
          "text": [
            "Mounted at /content/drive\n"
          ]
        }
      ]
    },
    {
      "cell_type": "code",
      "source": [
        "data = pd.read_csv('/content/Cars.csv')"
      ],
      "metadata": {
        "id": "2cXvWhcntMaE"
      },
      "execution_count": 8,
      "outputs": []
    },
    {
      "cell_type": "code",
      "execution_count": 2,
      "metadata": {
        "id": "6bSO1pX5r2fh"
      },
      "outputs": [],
      "source": [
        "import pandas as pd\n",
        "import numpy as np\n",
        "import seaborn as sns\n",
        "import warnings\n",
        "warnings.filterwarnings('ignore')\n"
      ]
    },
    {
      "cell_type": "code",
      "source": [
        "data.columns"
      ],
      "metadata": {
        "colab": {
          "base_uri": "https://localhost:8080/"
        },
        "id": "jubOUhnAtPko",
        "outputId": "ce520796-937e-4207-d52f-dcb5ba116904"
      },
      "execution_count": 9,
      "outputs": [
        {
          "output_type": "execute_result",
          "data": {
            "text/plain": [
              "Index(['HP', 'MPG', 'VOL', 'SP', 'WT'], dtype='object')"
            ]
          },
          "metadata": {},
          "execution_count": 9
        }
      ]
    },
    {
      "cell_type": "code",
      "source": [
        "import pandas as pd\n",
        "data.MPG.mean()\n",
        "data.MPG.median()\n",
        "data.MPG.mode()\n",
        "from scipy import stats as st\n",
        "\n",
        "#third moment business decision\n",
        "data.MPG.skew()\n",
        "#fourth moment \n",
        "data.MPG.kurt()\n",
        "\n",
        "\n",
        "#measure of dispersion or second moment business decision\n",
        "data.MPG.var()\n",
        " # for squareroot we requared numpy\n",
        "import numpy as np\n",
        "np.sqrt(data.MPG.var())\n",
        "data.MPG.std() #std standard deviation is sq root of variance\n",
        "max(data.MPG)\n",
        "min(data.MPG)\n",
        "r = max(data.MPG)-min(data.MPG)\n",
        "r\n",
        "\n",
        "\n",
        "\n",
        "#data visualizatiom\n",
        "import matplotlib.pyplot as plt\n",
        "import numpy as np\n",
        "data.shape\n",
        "\n",
        "\n",
        "#histogram\n",
        "data['MPG'].hist()\n",
        "\n",
        "\n",
        "import seaborn as sns\n",
        "sns.distplot(data['MPG'])\n",
        "plt.grid(True)\n",
        "plt.show()\n",
        "\n",
        "\n",
        "\n"
      ],
      "metadata": {
        "colab": {
          "base_uri": "https://localhost:8080/",
          "height": 279
        },
        "id": "-AXVQBTvuV92",
        "outputId": "e845420e-c656-44b6-db1a-30368f82cd0d"
      },
      "execution_count": 13,
      "outputs": [
        {
          "output_type": "display_data",
          "data": {
            "image/png": "[encoded data removed]",
            "text/plain": [
              "<Figure size 432x288 with 1 Axes>"
            ]
          },
          "metadata": {
            "needs_background": "light"
          }
        }
      ]
    },
    {
      "cell_type": "code",
      "source": [
        "import seaborn as sns\n",
        "sns.distplot(data['MPG'])\n",
        "plt.grid(True)\n",
        "plt.show()"
      ],
      "metadata": {
        "colab": {
          "base_uri": "https://localhost:8080/",
          "height": 279
        },
        "id": "NYu6Rtkrui6Z",
        "outputId": "e63b4b7a-bdbf-4563-af7f-3ea5d267648e"
      },
      "execution_count": 14,
      "outputs": [
        {
          "output_type": "display_data",
          "data": {
            "image/png": "[encoded data removed]",
            "text/plain": [
              "<Figure size 432x288 with 1 Axes>"
            ]
          },
          "metadata": {
            "needs_background": "light"
          }
        }
      ]
    }
  ]
}